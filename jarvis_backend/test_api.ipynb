{
 "cells": [
  {
   "cell_type": "code",
   "execution_count": 17,
   "id": "04359321",
   "metadata": {},
   "outputs": [],
   "source": [
    "from urllib.parse import urljoin\n",
    "import requests\n",
    "import json"
   ]
  },
  {
   "cell_type": "code",
   "execution_count": 7,
   "id": "5d11e36b",
   "metadata": {},
   "outputs": [],
   "source": [
    "root_url = \"http://127.0.0.1:8000/\""
   ]
  },
  {
   "cell_type": "code",
   "execution_count": 32,
   "id": "c0bf6d01",
   "metadata": {},
   "outputs": [
    {
     "name": "stdout",
     "output_type": "stream",
     "text": [
      "{\n",
      "    \"modelname\": \"AlexNet\",\n",
      "    \"message\": \"this is AlexNet\"\n",
      "}\n",
      "{\n",
      "    \"modelname\": \"ResNet\",\n",
      "    \"message\": \"this is ResNet\"\n",
      "}\n",
      "{\n",
      "    \"modelname\": \"LeNet\",\n",
      "    \"message\": \"this is LeNet\"\n",
      "}\n"
     ]
    }
   ],
   "source": [
    "alexnet = \"AlexNet\"\n",
    "resnet = \"ResNet\"\n",
    "lenet = \"LeNet\"\n",
    "\n",
    "for model_name in [alexnet, resnet, lenet]:\n",
    "    url = f\"models/{model_name}\"\n",
    "    full_url = urljoin(root_url, url)\n",
    "\n",
    "    response = requests.get(full_url)\n",
    "\n",
    "    if response.headers[\"content-type\"] == \"application/json\":\n",
    "        print(json.dumps(response.json(), indent=4))\n"
   ]
  },
  {
   "cell_type": "code",
   "execution_count": null,
   "id": "ed1f17b1",
   "metadata": {},
   "outputs": [],
   "source": [
    "{\n",
    "  \"id\": 0,\n",
    "  \"name\": \"Lunch\",\n",
    "  \"quantity\": 1,\n",
    "  \"created_date\": \"2025-06-06\",\n",
    "  \"protein\": 70,\n",
    "  \"calories\": 800\n",
    "}"
   ]
  }
 ],
 "metadata": {
  "kernelspec": {
   "display_name": ".venv",
   "language": "python",
   "name": "python3"
  },
  "language_info": {
   "codemirror_mode": {
    "name": "ipython",
    "version": 3
   },
   "file_extension": ".py",
   "mimetype": "text/x-python",
   "name": "python",
   "nbconvert_exporter": "python",
   "pygments_lexer": "ipython3",
   "version": "3.12.1"
  }
 },
 "nbformat": 4,
 "nbformat_minor": 5
}
