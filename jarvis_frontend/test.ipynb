{
 "cells": [
  {
   "cell_type": "code",
   "execution_count": 1,
   "id": "2907418f",
   "metadata": {},
   "outputs": [],
   "source": [
    "import requests"
   ]
  },
  {
   "cell_type": "code",
   "execution_count": 3,
   "id": "ae42d2c4",
   "metadata": {},
   "outputs": [
    {
     "data": {
      "text/plain": [
       "[{'name': 'Lunch',\n",
       "  'id': 0,\n",
       "  'calories': 800.0,\n",
       "  'quantity': 1,\n",
       "  'created_date': '2025-06-06T00:00:00',\n",
       "  'protein': 70.0},\n",
       " {'name': 'Dinner',\n",
       "  'id': 1,\n",
       "  'calories': 800.0,\n",
       "  'quantity': 1,\n",
       "  'created_date': '2025-06-06T00:00:00',\n",
       "  'protein': 10.0},\n",
       " {'name': 'BreakFast',\n",
       "  'id': 2,\n",
       "  'calories': 800.0,\n",
       "  'quantity': 1,\n",
       "  'created_date': '2025-06-06T00:00:00',\n",
       "  'protein': 30.0},\n",
       " {'name': 'apple',\n",
       "  'id': 3,\n",
       "  'calories': 100.0,\n",
       "  'quantity': 2,\n",
       "  'created_date': '2025-06-06T23:15:44.020284',\n",
       "  'protein': 1.0},\n",
       " {'name': 'Water melon',\n",
       "  'id': 5,\n",
       "  'calories': 100.0,\n",
       "  'quantity': 1,\n",
       "  'created_date': '2025-06-06T23:05:52.816852',\n",
       "  'protein': 1.0}]"
      ]
     },
     "execution_count": 3,
     "metadata": {},
     "output_type": "execute_result"
    }
   ],
   "source": [
    "response = requests.get(\" http://localhost:8000/foods/\")\n",
    "response.json()"
   ]
  },
  {
   "cell_type": "code",
   "execution_count": null,
   "id": "870b33f6",
   "metadata": {},
   "outputs": [],
   "source": []
  }
 ],
 "metadata": {
  "kernelspec": {
   "display_name": ".venv",
   "language": "python",
   "name": "python3"
  },
  "language_info": {
   "codemirror_mode": {
    "name": "ipython",
    "version": 3
   },
   "file_extension": ".py",
   "mimetype": "text/x-python",
   "name": "python",
   "nbconvert_exporter": "python",
   "pygments_lexer": "ipython3",
   "version": "3.12.11"
  }
 },
 "nbformat": 4,
 "nbformat_minor": 5
}
